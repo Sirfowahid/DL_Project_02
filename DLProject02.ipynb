{
  "nbformat": 4,
  "nbformat_minor": 0,
  "metadata": {
    "colab": {
      "provenance": [],
      "authorship_tag": "ABX9TyNCgtDGgk0JP2+IY5xiD78s",
      "include_colab_link": true
    },
    "kernelspec": {
      "name": "python3",
      "display_name": "Python 3"
    },
    "language_info": {
      "name": "python"
    }
  },
  "cells": [
    {
      "cell_type": "markdown",
      "metadata": {
        "id": "view-in-github",
        "colab_type": "text"
      },
      "source": [
        "<a href=\"https://colab.research.google.com/github/Sirfowahid/DL_Project_02/blob/main/DLProject02.ipynb\" target=\"_parent\"><img src=\"https://colab.research.google.com/assets/colab-badge.svg\" alt=\"Open In Colab\"/></a>"
      ]
    },
    {
      "cell_type": "code",
      "execution_count": null,
      "metadata": {
        "id": "UZbYTL11WA0H"
      },
      "outputs": [],
      "source": [
        "import pandas as pd\n",
        "import numpy as np\n",
        "import seaborn as sns\n",
        "import matplotlib.pyplot as plt\n",
        "from sklearn.model_selection import train_test_split\n",
        "from IPython import display\n",
        "display.set_matplotlib_formats('svg')\n",
        "\n",
        "import torch\n",
        "import torch.nn as nn\n",
        "import torch.nn.functional as F\n",
        "from torch.utils.data import TensorDataset,DataLoader\n"
      ]
    },
    {
      "cell_type": "code",
      "source": [
        "url  = 'https://archive.ics.uci.edu/ml/machine-learning-databases/heart-disease/processed.cleveland.data'\n",
        "data = pd.read_csv(url,sep=',',header=None)"
      ],
      "metadata": {
        "id": "2dr0SeQ1WpqT"
      },
      "execution_count": null,
      "outputs": []
    },
    {
      "cell_type": "code",
      "source": [
        "data.columns = ['age','sex','cp','trestbps','chol','fbs','restecg','thalach','exang','oldpeak','slope','ca','thal','DISEASE']\n",
        "\n",
        "data = data.replace('?',np.nan).dropna()\n",
        "\n",
        "data.head()"
      ],
      "metadata": {
        "id": "d2xOxVn4X1h0"
      },
      "execution_count": null,
      "outputs": []
    },
    {
      "cell_type": "code",
      "source": [
        "data.describe()"
      ],
      "metadata": {
        "id": "ZBnXReZDX5w6"
      },
      "execution_count": null,
      "outputs": []
    },
    {
      "cell_type": "code",
      "source": [
        "fig,ax = plt.subplots(1,figsize=(17,4))\n",
        "ax = sns.boxplot(data=data)\n",
        "ax.set_xticklabels(ax.get_xticklabels(),rotation=45)\n",
        "plt.show()"
      ],
      "metadata": {
        "id": "AeJi67ESX969"
      },
      "execution_count": null,
      "outputs": []
    },
    {
      "cell_type": "code",
      "source": [
        "col2zscore = data.keys()\n",
        "col2zscore = col2zscore.drop(['sex','fbs','exang','DISEASE'])\n",
        "col2zscore\n",
        "\n",
        "for c in col2zscore:\n",
        "  d = pd.to_numeric(data[c])\n",
        "  data[c] = (d-d.mean())/d.std(ddof=1)"
      ],
      "metadata": {
        "id": "6nJ2-jVyYR3R"
      },
      "execution_count": null,
      "outputs": []
    },
    {
      "cell_type": "code",
      "source": [
        "fig,ax = plt.subplots(1,figsize=(17,4))\n",
        "ax = sns.boxplot(data=data)\n",
        "ax.set_xticklabels(ax.get_xticklabels(),rotation=45)\n",
        "plt.show()"
      ],
      "metadata": {
        "id": "Pnky3hz-Y54i"
      },
      "execution_count": null,
      "outputs": []
    },
    {
      "cell_type": "code",
      "source": [
        "data['DISEASE'].value_counts()"
      ],
      "metadata": {
        "id": "zRkq1J2VZOEP"
      },
      "execution_count": null,
      "outputs": []
    },
    {
      "cell_type": "code",
      "source": [
        "data['DISEASE'][data['DISEASE']>0] = 1"
      ],
      "metadata": {
        "id": "IG0sf9j3ZdYo"
      },
      "execution_count": null,
      "outputs": []
    },
    {
      "cell_type": "code",
      "source": [
        "data.head()"
      ],
      "metadata": {
        "id": "YkxjPH92Ztf8"
      },
      "execution_count": null,
      "outputs": []
    },
    {
      "cell_type": "code",
      "source": [
        "plt.hist(data['DISEASE'])\n",
        "plt.show()"
      ],
      "metadata": {
        "id": "kQFt0b1kZzSk"
      },
      "execution_count": null,
      "outputs": []
    },
    {
      "cell_type": "code",
      "source": [
        "dataT  = torch.tensor( data[data.keys().drop('DISEASE')].values ).float()\n",
        "labels = torch.tensor( data['DISEASE'].values ).float()\n",
        "\n",
        "print( dataT.shape )\n",
        "print( labels.shape )\n",
        "\n",
        "labels = labels[:,None]\n",
        "print( labels.shape )"
      ],
      "metadata": {
        "id": "r-xoEdQmZ99w"
      },
      "execution_count": null,
      "outputs": []
    }
  ]
}